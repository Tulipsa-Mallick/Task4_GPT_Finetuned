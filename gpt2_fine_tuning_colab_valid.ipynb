{
  "cells": [
    {
      "cell_type": "markdown",
      "metadata": {
        "id": "view-in-github",
        "colab_type": "text"
      },
      "source": [
        "<a href=\"https://colab.research.google.com/github/Tulipsa-Mallick/Task4_GPT_Finetuned/blob/main/gpt2_fine_tuning_colab_valid.ipynb\" target=\"_parent\"><img src=\"https://colab.research.google.com/assets/colab-badge.svg\" alt=\"Open In Colab\"/></a>"
      ]
    },
    {
      "cell_type": "markdown",
      "id": "04935560",
      "metadata": {
        "id": "04935560"
      },
      "source": [
        "# 🤖 GPT-2 Fine-Tuning on Custom Text with Hugging Face (Colab Setup)"
      ]
    },
    {
      "cell_type": "code",
      "execution_count": null,
      "id": "d301af09",
      "metadata": {
        "id": "d301af09"
      },
      "outputs": [],
      "source": [
        "!pip install transformers datasets"
      ]
    },
    {
      "cell_type": "code",
      "execution_count": null,
      "id": "4989c504",
      "metadata": {
        "id": "4989c504"
      },
      "outputs": [],
      "source": [
        "\n",
        "from google.colab import files\n",
        "uploaded = files.upload()\n"
      ]
    },
    {
      "cell_type": "code",
      "execution_count": null,
      "id": "eeea9410",
      "metadata": {
        "id": "eeea9410"
      },
      "outputs": [],
      "source": [
        "\n",
        "from datasets import Dataset\n",
        "from transformers import GPT2Tokenizer, GPT2LMHeadModel, Trainer, TrainingArguments, DataCollatorForLanguageModeling\n",
        "\n",
        "# Get uploaded file name\n",
        "file_name = list(uploaded.keys())[0]\n",
        "\n",
        "# Read lines from the uploaded file\n",
        "with open(file_name, 'r', encoding='utf-8') as f:\n",
        "    lines = f.readlines()\n",
        "\n",
        "# Convert lines into a dataset format\n",
        "data = [{\"text\": line.strip()} for line in lines if line.strip()]\n",
        "dataset = Dataset.from_list(data)\n",
        "\n",
        "# Load GPT-2 tokenizer\n",
        "tokenizer = GPT2Tokenizer.from_pretrained(\"gpt2\")\n",
        "tokenizer.pad_token = tokenizer.eos_token\n",
        "\n",
        "# Tokenize the dataset\n",
        "def tokenize_function(example):\n",
        "    return tokenizer(example[\"text\"], truncation=True, padding=\"max_length\", max_length=128)\n",
        "\n",
        "tokenized_dataset = dataset.map(tokenize_function, batched=True)\n",
        "\n",
        "# Data collator and model setup\n",
        "data_collator = DataCollatorForLanguageModeling(tokenizer=tokenizer, mlm=False)\n",
        "model = GPT2LMHeadModel.from_pretrained(\"gpt2\")\n"
      ]
    },
    {
      "cell_type": "code",
      "execution_count": null,
      "id": "e6372b59",
      "metadata": {
        "id": "e6372b59"
      },
      "outputs": [],
      "source": [
        "import os\n",
        "os.environ[\"WANDB_DISABLED\"] = \"true\"\n",
        "\n",
        "from transformers import TrainingArguments\n",
        "\n",
        "training_args = TrainingArguments(\n",
        "    output_dir=\"./results\",\n",
        "    overwrite_output_dir=True,\n",
        "    num_train_epochs=3,\n",
        "    per_device_train_batch_size=2,\n",
        "    save_steps=10,\n",
        "    save_total_limit=1,\n",
        "    logging_dir=\"./logs\",\n",
        "    logging_steps=5,\n",
        "     report_to=None\n",
        ")\n",
        "\n",
        "trainer = Trainer(\n",
        "    model=model,\n",
        "    args=training_args,\n",
        "    train_dataset=tokenized_dataset,\n",
        "    data_collator=data_collator,\n",
        ")\n",
        "\n",
        "trainer.train()\n",
        "\n"
      ]
    },
    {
      "cell_type": "code",
      "execution_count": null,
      "id": "f0c45a09",
      "metadata": {
        "id": "f0c45a09"
      },
      "outputs": [],
      "source": [
        "\n",
        "model.save_pretrained(\"gpt2-finetuned\")\n",
        "tokenizer.save_pretrained(\"gpt2-finetuned\")\n"
      ]
    },
    {
      "cell_type": "code",
      "execution_count": null,
      "id": "4d1285d5",
      "metadata": {
        "id": "4d1285d5"
      },
      "outputs": [],
      "source": [
        "\n",
        "from transformers import pipeline\n",
        "generator = pipeline(\"text-generation\", model=\"gpt2-finetuned\", tokenizer=\"gpt2-finetuned\")\n",
        "generator(\"Once upon a time\", max_length=50, num_return_sequences=1)\n"
      ]
    },
    {
      "cell_type": "code",
      "source": [
        "model_save_path = \"./gpt2-finetuned\"\n",
        "model.save_pretrained(model_save_path)\n",
        "tokenizer.save_pretrained(model_save_path)\n"
      ],
      "metadata": {
        "id": "qfOrC2qW7FRo"
      },
      "id": "qfOrC2qW7FRo",
      "execution_count": null,
      "outputs": []
    },
    {
      "cell_type": "code",
      "source": [
        "import shutil\n",
        "shutil.make_archive(\"gpt2-finetuned\", 'zip', model_save_path)\n"
      ],
      "metadata": {
        "id": "3-HRLMJ37VgL"
      },
      "id": "3-HRLMJ37VgL",
      "execution_count": null,
      "outputs": []
    },
    {
      "cell_type": "code",
      "source": [
        "from google.colab import files\n",
        "files.download(\"/content/gpt2-finetuned.zip\")\n",
        "\n"
      ],
      "metadata": {
        "id": "QIQdKKgV7vEK",
        "outputId": "7acb62b7-73bc-4c19-bf90-eeb71e8cff49",
        "colab": {
          "base_uri": "https://localhost:8080/",
          "height": 34
        }
      },
      "id": "QIQdKKgV7vEK",
      "execution_count": null,
      "outputs": [
        {
          "output_type": "display_data",
          "data": {
            "text/plain": [
              "<IPython.core.display.Javascript object>"
            ],
            "application/javascript": [
              "\n",
              "    async function download(id, filename, size) {\n",
              "      if (!google.colab.kernel.accessAllowed) {\n",
              "        return;\n",
              "      }\n",
              "      const div = document.createElement('div');\n",
              "      const label = document.createElement('label');\n",
              "      label.textContent = `Downloading \"${filename}\": `;\n",
              "      div.appendChild(label);\n",
              "      const progress = document.createElement('progress');\n",
              "      progress.max = size;\n",
              "      div.appendChild(progress);\n",
              "      document.body.appendChild(div);\n",
              "\n",
              "      const buffers = [];\n",
              "      let downloaded = 0;\n",
              "\n",
              "      const channel = await google.colab.kernel.comms.open(id);\n",
              "      // Send a message to notify the kernel that we're ready.\n",
              "      channel.send({})\n",
              "\n",
              "      for await (const message of channel.messages) {\n",
              "        // Send a message to notify the kernel that we're ready.\n",
              "        channel.send({})\n",
              "        if (message.buffers) {\n",
              "          for (const buffer of message.buffers) {\n",
              "            buffers.push(buffer);\n",
              "            downloaded += buffer.byteLength;\n",
              "            progress.value = downloaded;\n",
              "          }\n",
              "        }\n",
              "      }\n",
              "      const blob = new Blob(buffers, {type: 'application/binary'});\n",
              "      const a = document.createElement('a');\n",
              "      a.href = window.URL.createObjectURL(blob);\n",
              "      a.download = filename;\n",
              "      div.appendChild(a);\n",
              "      a.click();\n",
              "      div.remove();\n",
              "    }\n",
              "  "
            ]
          },
          "metadata": {}
        },
        {
          "output_type": "display_data",
          "data": {
            "text/plain": [
              "<IPython.core.display.Javascript object>"
            ],
            "application/javascript": [
              "download(\"download_82d1469f-0d8b-4635-b41c-119ebde8ffd0\", \"gpt2-finetuned.zip\", 463239918)"
            ]
          },
          "metadata": {}
        }
      ]
    }
  ],
  "metadata": {
    "colab": {
      "provenance": [],
      "include_colab_link": true
    },
    "language_info": {
      "name": "python"
    },
    "kernelspec": {
      "name": "python3",
      "display_name": "Python 3"
    }
  },
  "nbformat": 4,
  "nbformat_minor": 5
}